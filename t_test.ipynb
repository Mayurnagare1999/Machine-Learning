{
 "cells": [
  {
   "cell_type": "code",
   "execution_count": 1,
   "metadata": {},
   "outputs": [],
   "source": [
    "import numpy as np"
   ]
  },
  {
   "cell_type": "code",
   "execution_count": 4,
   "metadata": {},
   "outputs": [
    {
     "data": {
      "text/plain": [
       "[array([67, 79, 81, 76, 25, 81, 76, 98, 35, 67, 95, 76, 61, 71, 65, 86, 61,\n",
       "        76, 76, 55, 29, 95, 41, 46, 58,  6, 84,  6, 78], dtype=int32)]"
      ]
     },
     "execution_count": 4,
     "metadata": {},
     "output_type": "execute_result"
    }
   ],
   "source": [
    "ages = list(np.random.randint(2,100,29)])\n",
    "ages"
   ]
  },
  {
   "cell_type": "code",
   "execution_count": 7,
   "metadata": {},
   "outputs": [],
   "source": [
    "ages = [67, 79, 81, 76, 25, 81, 76, 98, 35, 67, 95, 76, 61, 71, 65, 86, 61,\n",
    "        76, 76, 55, 29, 95, 41, 46, 58,  6, 84,  6, 78]"
   ]
  },
  {
   "cell_type": "code",
   "execution_count": 9,
   "metadata": {},
   "outputs": [
    {
     "data": {
      "text/plain": [
       "np.float64(63.793103448275865)"
      ]
     },
     "execution_count": 9,
     "metadata": {},
     "output_type": "execute_result"
    }
   ],
   "source": [
    "ages_m =np.mean(ages)\n",
    "ages_m"
   ]
  },
  {
   "cell_type": "code",
   "execution_count": 11,
   "metadata": {},
   "outputs": [
    {
     "data": {
      "text/plain": [
       "array([46, 79, 58, 78, 41, 76, 46, 46, 86, 95])"
      ]
     },
     "execution_count": 11,
     "metadata": {},
     "output_type": "execute_result"
    }
   ],
   "source": [
    "### lets take sample \n",
    "sample_size = 10\n",
    "age_choice = np.random.choice(ages,sample_size)\n",
    "age_choice\n"
   ]
  },
  {
   "cell_type": "code",
   "execution_count": 12,
   "metadata": {},
   "outputs": [],
   "source": [
    "from scipy.stats import ttest_1samp  ### its one sample test and check whether your sample mean is significantly differe from the '\n",
    "# population mean"
   ]
  },
  {
   "cell_type": "code",
   "execution_count": 18,
   "metadata": {},
   "outputs": [
    {
     "name": "stdout",
     "output_type": "stream",
     "text": [
      "0.4367752674907105\n"
     ]
    }
   ],
   "source": [
    "ttest,p_value=ttest_1samp(age_choice,60)  ## here 30 basically am considering that my population means is 30\n",
    "print(p_value)\n"
   ]
  },
  {
   "cell_type": "code",
   "execution_count": 19,
   "metadata": {},
   "outputs": [
    {
     "name": "stdout",
     "output_type": "stream",
     "text": [
      "There is significant difference between the sample and population mean beacuse p value 0.4367752674907105>0.05\n"
     ]
    }
   ],
   "source": [
    "if p_value<0.05:\n",
    "    print(f\"There is no significant diffeence between the Ho and H1 or sample and population means becasue p value {p_value} <0.05\")\n",
    "else:\n",
    "    print(f\"There is significant difference between the sample and population mean beacuse p value {p_value}>0.05\")"
   ]
  },
  {
   "cell_type": "markdown",
   "metadata": {},
   "source": [
    "## Some more example"
   ]
  },
  {
   "cell_type": "code",
   "execution_count": 22,
   "metadata": {},
   "outputs": [],
   "source": [
    "import math\n",
    "import scipy.stats as stats"
   ]
  },
  {
   "cell_type": "code",
   "execution_count": 25,
   "metadata": {},
   "outputs": [],
   "source": [
    "school_age = stats.poisson.rvs(loc=18,mu=36,size=1600)\n",
    "classA_height = stats.poisson.rvs(loc=18,mu=30,size=68)\n"
   ]
  },
  {
   "cell_type": "code",
   "execution_count": 30,
   "metadata": {},
   "outputs": [
    {
     "data": {
      "text/plain": [
       "np.float64(54.13875)"
      ]
     },
     "execution_count": 30,
     "metadata": {},
     "output_type": "execute_result"
    }
   ],
   "source": [
    "school_age.mean()"
   ]
  },
  {
   "cell_type": "code",
   "execution_count": 26,
   "metadata": {},
   "outputs": [
    {
     "data": {
      "text/plain": [
       "np.float64(47.1764705882353)"
      ]
     },
     "execution_count": 26,
     "metadata": {},
     "output_type": "execute_result"
    }
   ],
   "source": [
    "classA_height.mean()"
   ]
  },
  {
   "cell_type": "code",
   "execution_count": 27,
   "metadata": {},
   "outputs": [],
   "source": [
    "mn,p_value = ttest_1samp(classA_height,school_age.mean())"
   ]
  },
  {
   "cell_type": "code",
   "execution_count": 28,
   "metadata": {},
   "outputs": [
    {
     "data": {
      "text/plain": [
       "np.float64(9.381952097684356e-16)"
      ]
     },
     "execution_count": 28,
     "metadata": {},
     "output_type": "execute_result"
    }
   ],
   "source": [
    "p_value"
   ]
  },
  {
   "cell_type": "code",
   "execution_count": 29,
   "metadata": {},
   "outputs": [
    {
     "name": "stdout",
     "output_type": "stream",
     "text": [
      "reject the null hypothesis with value 9.381952097684356e-16\n"
     ]
    }
   ],
   "source": [
    "if p_value<0.05:\n",
    "    print(\"reject the null hypothesis with value {}\".format(p_value))\n",
    "else:\n",
    "    print(\"accept the null hypothesis \")"
   ]
  },
  {
   "cell_type": "markdown",
   "metadata": {},
   "source": [
    "## Two sample t-test with example"
   ]
  },
  {
   "cell_type": "code",
   "execution_count": 32,
   "metadata": {},
   "outputs": [],
   "source": [
    "a=np.random.seed(12)"
   ]
  },
  {
   "cell_type": "code",
   "execution_count": 35,
   "metadata": {},
   "outputs": [
    {
     "data": {
      "text/plain": [
       "np.float64(48.45360824742268)"
      ]
     },
     "execution_count": 35,
     "metadata": {},
     "output_type": "execute_result"
    }
   ],
   "source": [
    "classB_ag = stats.poisson.rvs(loc=18,mu=30,size=97)\n",
    "classB_ag.mean()"
   ]
  },
  {
   "cell_type": "code",
   "execution_count": 38,
   "metadata": {},
   "outputs": [
    {
     "name": "stdout",
     "output_type": "stream",
     "text": [
      "0.15469720460835723\n"
     ]
    }
   ],
   "source": [
    "_,p_value = stats.ttest_ind(a=classA_height,b=classB_ag,equal_var=False)\n",
    "print(p_value)"
   ]
  },
  {
   "cell_type": "code",
   "execution_count": 39,
   "metadata": {},
   "outputs": [
    {
     "name": "stdout",
     "output_type": "stream",
     "text": [
      "accept the null hypothesis \n"
     ]
    }
   ],
   "source": [
    "if p_value<0.05:\n",
    "    print(\"reject the null hypothesis with value {}\".format(p_value))\n",
    "else:\n",
    "    print(\"accept the null hypothesis \")"
   ]
  },
  {
   "cell_type": "markdown",
   "metadata": {},
   "source": [
    "## Paired t-test with python"
   ]
  },
  {
   "cell_type": "code",
   "execution_count": 45,
   "metadata": {},
   "outputs": [],
   "source": [
    "weight1=[10,24,24,23,34,32,67,53,34,21,23,42]\n",
    "# len(weight1)\n",
    "weight2=weight1+stats.norm.rvs(scale=5,loc=-1.20,size=12)\n"
   ]
  },
  {
   "cell_type": "code",
   "execution_count": 46,
   "metadata": {},
   "outputs": [
    {
     "name": "stdout",
     "output_type": "stream",
     "text": [
      "[10, 24, 24, 23, 34, 32, 67, 53, 34, 21, 23, 42]\n",
      "[10.4512329  15.38788024 28.37945054 23.55810988 30.57945165 41.23034117\n",
      " 60.93566925 45.6523532  32.05576159 22.19951759 29.58207332 42.089736  ]\n"
     ]
    }
   ],
   "source": [
    "print(weight1)\n",
    "print(weight2)"
   ]
  },
  {
   "cell_type": "code",
   "execution_count": 47,
   "metadata": {},
   "outputs": [
    {
     "data": {
      "application/javascript": "\n        if (window._pyforest_update_imports_cell) { window._pyforest_update_imports_cell('import pandas as pd\\nfrom sklearn.model_selection import train_test_split\\nfrom scipy import stats\\nimport re\\nfrom sklearn.manifold import TSNE'); }\n    ",
      "text/plain": [
       "<IPython.core.display.Javascript object>"
      ]
     },
     "metadata": {},
     "output_type": "display_data"
    }
   ],
   "source": [
    "weight_df = pd.DataFrame({'weight1':weight1,\n",
    "                          'weight2':weight2,\n",
    "                          'changes_in_weight':np.array(weight2)-np.array(weight1)\n",
    "                          })"
   ]
  },
  {
   "cell_type": "code",
   "execution_count": 48,
   "metadata": {},
   "outputs": [
    {
     "data": {
      "text/html": [
       "<div>\n",
       "<style scoped>\n",
       "    .dataframe tbody tr th:only-of-type {\n",
       "        vertical-align: middle;\n",
       "    }\n",
       "\n",
       "    .dataframe tbody tr th {\n",
       "        vertical-align: top;\n",
       "    }\n",
       "\n",
       "    .dataframe thead th {\n",
       "        text-align: right;\n",
       "    }\n",
       "</style>\n",
       "<table border=\"1\" class=\"dataframe\">\n",
       "  <thead>\n",
       "    <tr style=\"text-align: right;\">\n",
       "      <th></th>\n",
       "      <th>weight1</th>\n",
       "      <th>weight2</th>\n",
       "      <th>changes_in_weight</th>\n",
       "    </tr>\n",
       "  </thead>\n",
       "  <tbody>\n",
       "    <tr>\n",
       "      <th>0</th>\n",
       "      <td>10</td>\n",
       "      <td>10.451233</td>\n",
       "      <td>0.451233</td>\n",
       "    </tr>\n",
       "    <tr>\n",
       "      <th>1</th>\n",
       "      <td>24</td>\n",
       "      <td>15.387880</td>\n",
       "      <td>-8.612120</td>\n",
       "    </tr>\n",
       "    <tr>\n",
       "      <th>2</th>\n",
       "      <td>24</td>\n",
       "      <td>28.379451</td>\n",
       "      <td>4.379451</td>\n",
       "    </tr>\n",
       "    <tr>\n",
       "      <th>3</th>\n",
       "      <td>23</td>\n",
       "      <td>23.558110</td>\n",
       "      <td>0.558110</td>\n",
       "    </tr>\n",
       "    <tr>\n",
       "      <th>4</th>\n",
       "      <td>34</td>\n",
       "      <td>30.579452</td>\n",
       "      <td>-3.420548</td>\n",
       "    </tr>\n",
       "    <tr>\n",
       "      <th>5</th>\n",
       "      <td>32</td>\n",
       "      <td>41.230341</td>\n",
       "      <td>9.230341</td>\n",
       "    </tr>\n",
       "    <tr>\n",
       "      <th>6</th>\n",
       "      <td>67</td>\n",
       "      <td>60.935669</td>\n",
       "      <td>-6.064331</td>\n",
       "    </tr>\n",
       "    <tr>\n",
       "      <th>7</th>\n",
       "      <td>53</td>\n",
       "      <td>45.652353</td>\n",
       "      <td>-7.347647</td>\n",
       "    </tr>\n",
       "    <tr>\n",
       "      <th>8</th>\n",
       "      <td>34</td>\n",
       "      <td>32.055762</td>\n",
       "      <td>-1.944238</td>\n",
       "    </tr>\n",
       "    <tr>\n",
       "      <th>9</th>\n",
       "      <td>21</td>\n",
       "      <td>22.199518</td>\n",
       "      <td>1.199518</td>\n",
       "    </tr>\n",
       "    <tr>\n",
       "      <th>10</th>\n",
       "      <td>23</td>\n",
       "      <td>29.582073</td>\n",
       "      <td>6.582073</td>\n",
       "    </tr>\n",
       "    <tr>\n",
       "      <th>11</th>\n",
       "      <td>42</td>\n",
       "      <td>42.089736</td>\n",
       "      <td>0.089736</td>\n",
       "    </tr>\n",
       "  </tbody>\n",
       "</table>\n",
       "</div>"
      ],
      "text/plain": [
       "    weight1    weight2  changes_in_weight\n",
       "0        10  10.451233           0.451233\n",
       "1        24  15.387880          -8.612120\n",
       "2        24  28.379451           4.379451\n",
       "3        23  23.558110           0.558110\n",
       "4        34  30.579452          -3.420548\n",
       "5        32  41.230341           9.230341\n",
       "6        67  60.935669          -6.064331\n",
       "7        53  45.652353          -7.347647\n",
       "8        34  32.055762          -1.944238\n",
       "9        21  22.199518           1.199518\n",
       "10       23  29.582073           6.582073\n",
       "11       42  42.089736           0.089736"
      ]
     },
     "execution_count": 48,
     "metadata": {},
     "output_type": "execute_result"
    }
   ],
   "source": [
    "weight_df"
   ]
  },
  {
   "cell_type": "code",
   "execution_count": 49,
   "metadata": {},
   "outputs": [
    {
     "name": "stdout",
     "output_type": "stream",
     "text": [
      "0.8004745818513507\n"
     ]
    }
   ],
   "source": [
    "_,p_value=stats.ttest_rel(a=weight1,b=weight2)\n",
    "print(p_value)   "
   ]
  },
  {
   "cell_type": "code",
   "execution_count": 50,
   "metadata": {},
   "outputs": [
    {
     "name": "stdout",
     "output_type": "stream",
     "text": [
      "we are accepting the null hypothesis\n"
     ]
    }
   ],
   "source": [
    "if p_value<0.05:\n",
    "    print(\"We are rejecting the null hypotheiss\")\n",
    "else:\n",
    "    print(\"we are accepting the null hypothesis\")"
   ]
  },
  {
   "cell_type": "code",
   "execution_count": null,
   "metadata": {},
   "outputs": [],
   "source": []
  }
 ],
 "metadata": {
  "kernelspec": {
   "display_name": "Python 3",
   "language": "python",
   "name": "python3"
  },
  "language_info": {
   "codemirror_mode": {
    "name": "ipython",
    "version": 3
   },
   "file_extension": ".py",
   "mimetype": "text/x-python",
   "name": "python",
   "nbconvert_exporter": "python",
   "pygments_lexer": "ipython3",
   "version": "3.11.9"
  }
 },
 "nbformat": 4,
 "nbformat_minor": 2
}
